{
 "cells": [
  {
   "cell_type": "markdown",
   "metadata": {},
   "source": [
    "# Get Cases with Revascularization procedure codes "
   ]
  },
  {
   "cell_type": "code",
   "execution_count": 1,
   "metadata": {},
   "outputs": [
    {
     "name": "stderr",
     "output_type": "stream",
     "text": [
      "── \u001b[1mAttaching core tidyverse packages\u001b[22m ──────────────────────── tidyverse 2.0.0 ──\n",
      "\u001b[32m✔\u001b[39m \u001b[34mdplyr    \u001b[39m 1.1.4     \u001b[32m✔\u001b[39m \u001b[34mreadr    \u001b[39m 2.1.5\n",
      "\u001b[32m✔\u001b[39m \u001b[34mforcats  \u001b[39m 1.0.0     \u001b[32m✔\u001b[39m \u001b[34mstringr  \u001b[39m 1.5.1\n",
      "\u001b[32m✔\u001b[39m \u001b[34mggplot2  \u001b[39m 3.5.2     \u001b[32m✔\u001b[39m \u001b[34mtibble   \u001b[39m 3.2.1\n",
      "\u001b[32m✔\u001b[39m \u001b[34mlubridate\u001b[39m 1.9.4     \u001b[32m✔\u001b[39m \u001b[34mtidyr    \u001b[39m 1.3.1\n",
      "\u001b[32m✔\u001b[39m \u001b[34mpurrr    \u001b[39m 1.0.4     \n",
      "── \u001b[1mConflicts\u001b[22m ────────────────────────────────────────── tidyverse_conflicts() ──\n",
      "\u001b[31m✖\u001b[39m \u001b[34mdplyr\u001b[39m::\u001b[32mfilter()\u001b[39m masks \u001b[34mstats\u001b[39m::filter()\n",
      "\u001b[31m✖\u001b[39m \u001b[34mdplyr\u001b[39m::\u001b[32mlag()\u001b[39m    masks \u001b[34mstats\u001b[39m::lag()\n",
      "\u001b[36mℹ\u001b[39m Use the conflicted package (\u001b[3m\u001b[34m<http://conflicted.r-lib.org/>\u001b[39m\u001b[23m) to force all conflicts to become errors\n",
      "The data will be written to gs://fc-secure-672eeb92-4859-4ed9-9f59-d4349f3534a0/bq_exports/micah_hysong@researchallofus.org/20250825/procedure_47740110/procedure_47740110_*.csv. Use this path when reading the data into your notebooks in the future.\n",
      "\n",
      "Loading gs://fc-secure-672eeb92-4859-4ed9-9f59-d4349f3534a0/bq_exports/micah_hysong@researchallofus.org/20250825/procedure_47740110/procedure_47740110_000000000000.csv.\n",
      "\n"
     ]
    },
    {
     "data": {
      "text/html": [
       "<style>\n",
       ".list-inline {list-style: none; margin:0; padding: 0}\n",
       ".list-inline>li {display: inline-block}\n",
       ".list-inline>li:not(:last-child)::after {content: \"\\00b7\"; padding: 0 .5ex}\n",
       "</style>\n",
       "<ol class=list-inline><li>2528</li><li>5</li></ol>\n"
      ],
      "text/latex": [
       "\\begin{enumerate*}\n",
       "\\item 2528\n",
       "\\item 5\n",
       "\\end{enumerate*}\n"
      ],
      "text/markdown": [
       "1. 2528\n",
       "2. 5\n",
       "\n",
       "\n"
      ],
      "text/plain": [
       "[1] 2528    5"
      ]
     },
     "metadata": {},
     "output_type": "display_data"
    }
   ],
   "source": [
    "library(tidyverse)\n",
    "library(bigrquery)\n",
    "\n",
    "# This query represents dataset \"CAD_revascularization\" for domain \"procedure\" and was generated for All of Us Controlled Tier Dataset v7\n",
    "dataset_47740110_procedure_sql <- paste(\"\n",
    "    SELECT\n",
    "        procedure.person_id,\n",
    "        procedure.procedure_concept_id,\n",
    "        p_standard_concept.concept_name as standard_concept_name,\n",
    "        p_standard_concept.concept_code as standard_concept_code,\n",
    "        p_standard_concept.vocabulary_id as standard_vocabulary \n",
    "    FROM\n",
    "        ( SELECT\n",
    "            * \n",
    "        FROM\n",
    "            `procedure_occurrence` procedure \n",
    "        WHERE\n",
    "            (\n",
    "                procedure_concept_id IN (SELECT\n",
    "                    DISTINCT c.concept_id \n",
    "                FROM\n",
    "                    `cb_criteria` c \n",
    "                JOIN\n",
    "                    (SELECT\n",
    "                        CAST(cr.id as string) AS id       \n",
    "                    FROM\n",
    "                        `cb_criteria` cr       \n",
    "                    WHERE\n",
    "                        concept_id IN (4034857, 4217445, 4219321, 4284104, 43533186, 36969009, \n",
    "                        43533187, 43533223, 43533242, 43533354, 41339005, 14201006, 276861004)       \n",
    "                        AND full_text LIKE '%_rank1]%'      ) a \n",
    "                        ON (c.path LIKE CONCAT('%.', a.id, '.%') \n",
    "                        OR c.path LIKE CONCAT('%.', a.id) \n",
    "                        OR c.path LIKE CONCAT(a.id, '.%') \n",
    "                        OR c.path = a.id) \n",
    "                WHERE\n",
    "                    is_standard = 1 \n",
    "                    AND is_selectable = 1)\n",
    "            )  \n",
    "            AND (\n",
    "                procedure.PERSON_ID IN (SELECT\n",
    "                    distinct person_id  \n",
    "                FROM\n",
    "                    `cb_search_person` cb_search_person  \n",
    "                WHERE\n",
    "                    cb_search_person.person_id IN (SELECT\n",
    "                        person_id \n",
    "                    FROM\n",
    "                        `cb_search_person` p \n",
    "                    WHERE\n",
    "                        has_whole_genome_variant = 1 ) \n",
    "                    AND cb_search_person.person_id IN (SELECT\n",
    "                        person_id \n",
    "                    FROM\n",
    "                        `cb_search_person` p \n",
    "                    WHERE\n",
    "                        has_ehr_data = 1 ) )\n",
    "            )) procedure \n",
    "    LEFT JOIN\n",
    "        `concept` p_standard_concept \n",
    "            ON procedure.procedure_concept_id = p_standard_concept.concept_id\", sep=\"\")\n",
    "\n",
    "# Formulate a Cloud Storage destination path for the data exported from BigQuery.\n",
    "# NOTE: By default data exported multiple times on the same day will overwrite older copies.\n",
    "#       But data exported on a different days will write to a new location so that historical\n",
    "#       copies can be kept as the dataset definition is changed.\n",
    "procedure_47740110_path <- file.path(\n",
    "  Sys.getenv(\"WORKSPACE_BUCKET\"),\n",
    "  \"bq_exports\",\n",
    "  Sys.getenv(\"OWNER_EMAIL\"),\n",
    "  strftime(lubridate::now(), \"%Y%m%d\"),  # Comment out this line if you want the export to always overwrite.\n",
    "  \"procedure_47740110\",\n",
    "  \"procedure_47740110_*.csv\")\n",
    "message(str_glue('The data will be written to {procedure_47740110_path}. Use this path when reading ',\n",
    "                 'the data into your notebooks in the future.'))\n",
    "\n",
    "# Perform the query and export the dataset to Cloud Storage as CSV files.\n",
    "# NOTE: You only need to run `bq_table_save` once. After that, you can\n",
    "#       just read data from the CSVs in Cloud Storage.\n",
    "bq_table_save(\n",
    "  bq_dataset_query(Sys.getenv(\"WORKSPACE_CDR\"), dataset_47740110_procedure_sql, billing = Sys.getenv(\"GOOGLE_PROJECT\")),\n",
    "  procedure_47740110_path,\n",
    "  destination_format = \"CSV\")\n",
    "\n",
    "\n",
    "# Read the data directly from Cloud Storage into memory.\n",
    "# NOTE: Alternatively you can `gsutil -m cp {procedure_47740110_path}` to copy these files\n",
    "#       to the Jupyter disk.\n",
    "read_bq_export_from_workspace_bucket <- function(export_path) {\n",
    "  col_types <- cols(standard_concept_name = col_character(), standard_concept_code = col_character(), standard_vocabulary = col_character())\n",
    "  bind_rows(\n",
    "    map(system2('gsutil', args = c('ls', export_path), stdout = TRUE, stderr = TRUE),\n",
    "        function(csv) {\n",
    "          message(str_glue('Loading {csv}.'))\n",
    "          chunk <- read_csv(pipe(str_glue('gsutil cat {csv}')), col_types = col_types, show_col_types = FALSE)\n",
    "          if (is.null(col_types)) {\n",
    "            col_types <- spec(chunk)\n",
    "          }\n",
    "          chunk\n",
    "        }))\n",
    "}\n",
    "procedure_df <- read_bq_export_from_workspace_bucket(procedure_47740110_path)\n",
    "\n",
    "dim(procedure_df)"
   ]
  },
  {
   "cell_type": "code",
   "execution_count": 2,
   "metadata": {},
   "outputs": [
    {
     "data": {
      "text/html": [
       "<style>\n",
       ".list-inline {list-style: none; margin:0; padding: 0}\n",
       ".list-inline>li {display: inline-block}\n",
       ".list-inline>li:not(:last-child)::after {content: \"\\00b7\"; padding: 0 .5ex}\n",
       "</style>\n",
       "<ol class=list-inline><li>'Myocardial revascularization'</li><li>'Aortocoronary bypass of two coronary arteries'</li><li>'Aortocoronary artery bypass graft'</li><li>'Percutaneous transluminal revascularization of chronic total occlusion, coronary artery, coronary artery branch, or coronary artery bypass graft, any combination of drug-eluting intracoronary stent, atherectomy and angioplasty; each additional coronary...'</li><li>'Percutaneous transluminal revascularization of or through coronary artery bypass graft (internal mammary, free arterial, venous), any combination of drug-eluting intracoronary stent, atherectomy and angioplasty, including distal protection when perform...'</li><li>'Aortocoronary bypass of three coronary arteries'</li><li>'Transmyocardial revascularization by laser technique'</li><li>'Aortocoronary bypass of four or more coronary arteries'</li><li>'Aortocoronary bypass of one coronary artery'</li><li>'Percutaneous transluminal revascularization of chronic total occlusion, coronary artery, coronary artery branch, or coronary artery bypass graft, any combination of drug-eluting intracoronary stent, atherectomy and angioplasty; single vessel'</li><li>'Anastomosis of internal mammary artery to coronary artery, double vessel'</li><li>'Percutaneous transluminal revascularization of acute total/subtotal occlusion during acute myocardial infarction, coronary artery or coronary artery bypass graft, any combination of drug-eluting intracoronary stent, atherectomy and angioplasty, includi...'</li></ol>\n"
      ],
      "text/latex": [
       "\\begin{enumerate*}\n",
       "\\item 'Myocardial revascularization'\n",
       "\\item 'Aortocoronary bypass of two coronary arteries'\n",
       "\\item 'Aortocoronary artery bypass graft'\n",
       "\\item 'Percutaneous transluminal revascularization of chronic total occlusion, coronary artery, coronary artery branch, or coronary artery bypass graft, any combination of drug-eluting intracoronary stent, atherectomy and angioplasty; each additional coronary...'\n",
       "\\item 'Percutaneous transluminal revascularization of or through coronary artery bypass graft (internal mammary, free arterial, venous), any combination of drug-eluting intracoronary stent, atherectomy and angioplasty, including distal protection when perform...'\n",
       "\\item 'Aortocoronary bypass of three coronary arteries'\n",
       "\\item 'Transmyocardial revascularization by laser technique'\n",
       "\\item 'Aortocoronary bypass of four or more coronary arteries'\n",
       "\\item 'Aortocoronary bypass of one coronary artery'\n",
       "\\item 'Percutaneous transluminal revascularization of chronic total occlusion, coronary artery, coronary artery branch, or coronary artery bypass graft, any combination of drug-eluting intracoronary stent, atherectomy and angioplasty; single vessel'\n",
       "\\item 'Anastomosis of internal mammary artery to coronary artery, double vessel'\n",
       "\\item 'Percutaneous transluminal revascularization of acute total/subtotal occlusion during acute myocardial infarction, coronary artery or coronary artery bypass graft, any combination of drug-eluting intracoronary stent, atherectomy and angioplasty, includi...'\n",
       "\\end{enumerate*}\n"
      ],
      "text/markdown": [
       "1. 'Myocardial revascularization'\n",
       "2. 'Aortocoronary bypass of two coronary arteries'\n",
       "3. 'Aortocoronary artery bypass graft'\n",
       "4. 'Percutaneous transluminal revascularization of chronic total occlusion, coronary artery, coronary artery branch, or coronary artery bypass graft, any combination of drug-eluting intracoronary stent, atherectomy and angioplasty; each additional coronary...'\n",
       "5. 'Percutaneous transluminal revascularization of or through coronary artery bypass graft (internal mammary, free arterial, venous), any combination of drug-eluting intracoronary stent, atherectomy and angioplasty, including distal protection when perform...'\n",
       "6. 'Aortocoronary bypass of three coronary arteries'\n",
       "7. 'Transmyocardial revascularization by laser technique'\n",
       "8. 'Aortocoronary bypass of four or more coronary arteries'\n",
       "9. 'Aortocoronary bypass of one coronary artery'\n",
       "10. 'Percutaneous transluminal revascularization of chronic total occlusion, coronary artery, coronary artery branch, or coronary artery bypass graft, any combination of drug-eluting intracoronary stent, atherectomy and angioplasty; single vessel'\n",
       "11. 'Anastomosis of internal mammary artery to coronary artery, double vessel'\n",
       "12. 'Percutaneous transluminal revascularization of acute total/subtotal occlusion during acute myocardial infarction, coronary artery or coronary artery bypass graft, any combination of drug-eluting intracoronary stent, atherectomy and angioplasty, includi...'\n",
       "\n",
       "\n"
      ],
      "text/plain": [
       " [1] \"Myocardial revascularization\"                                                                                                                                                                                                                                   \n",
       " [2] \"Aortocoronary bypass of two coronary arteries\"                                                                                                                                                                                                                  \n",
       " [3] \"Aortocoronary artery bypass graft\"                                                                                                                                                                                                                              \n",
       " [4] \"Percutaneous transluminal revascularization of chronic total occlusion, coronary artery, coronary artery branch, or coronary artery bypass graft, any combination of drug-eluting intracoronary stent, atherectomy and angioplasty; each additional coronary...\"\n",
       " [5] \"Percutaneous transluminal revascularization of or through coronary artery bypass graft (internal mammary, free arterial, venous), any combination of drug-eluting intracoronary stent, atherectomy and angioplasty, including distal protection when perform...\"\n",
       " [6] \"Aortocoronary bypass of three coronary arteries\"                                                                                                                                                                                                                \n",
       " [7] \"Transmyocardial revascularization by laser technique\"                                                                                                                                                                                                           \n",
       " [8] \"Aortocoronary bypass of four or more coronary arteries\"                                                                                                                                                                                                         \n",
       " [9] \"Aortocoronary bypass of one coronary artery\"                                                                                                                                                                                                                    \n",
       "[10] \"Percutaneous transluminal revascularization of chronic total occlusion, coronary artery, coronary artery branch, or coronary artery bypass graft, any combination of drug-eluting intracoronary stent, atherectomy and angioplasty; single vessel\"              \n",
       "[11] \"Anastomosis of internal mammary artery to coronary artery, double vessel\"                                                                                                                                                                                       \n",
       "[12] \"Percutaneous transluminal revascularization of acute total/subtotal occlusion during acute myocardial infarction, coronary artery or coronary artery bypass graft, any combination of drug-eluting intracoronary stent, atherectomy and angioplasty, includi...\""
      ]
     },
     "metadata": {},
     "output_type": "display_data"
    }
   ],
   "source": [
    "unique(procedure_df$standard_concept_name)"
   ]
  },
  {
   "cell_type": "code",
   "execution_count": 3,
   "metadata": {},
   "outputs": [
    {
     "data": {
      "text/html": [
       "704"
      ],
      "text/latex": [
       "704"
      ],
      "text/markdown": [
       "704"
      ],
      "text/plain": [
       "[1] 704"
      ]
     },
     "metadata": {},
     "output_type": "display_data"
    }
   ],
   "source": [
    "case_definition1<-unique(procedure_df$person_id)\n",
    "length(case_definition1)"
   ]
  },
  {
   "cell_type": "markdown",
   "metadata": {},
   "source": [
    "# Case Definition 2: hard diagnostic codes on 2 separate instances in the EHR "
   ]
  },
  {
   "cell_type": "code",
   "execution_count": 4,
   "metadata": {},
   "outputs": [
    {
     "name": "stderr",
     "output_type": "stream",
     "text": [
      "The data will be written to gs://fc-secure-672eeb92-4859-4ed9-9f59-d4349f3534a0/bq_exports/micah_hysong@researchallofus.org/20250825/condition_32581449/condition_32581449_*.csv. Use this path when reading the data into your notebooks in the future.\n",
      "\n",
      "Loading gs://fc-secure-672eeb92-4859-4ed9-9f59-d4349f3534a0/bq_exports/micah_hysong@researchallofus.org/20250825/condition_32581449/condition_32581449_000000000000.csv.\n",
      "\n"
     ]
    },
    {
     "data": {
      "text/html": [
       "<style>\n",
       ".list-inline {list-style: none; margin:0; padding: 0}\n",
       ".list-inline>li {display: inline-block}\n",
       ".list-inline>li:not(:last-child)::after {content: \"\\00b7\"; padding: 0 .5ex}\n",
       "</style>\n",
       "<ol class=list-inline><li>1273809</li><li>6</li></ol>\n"
      ],
      "text/latex": [
       "\\begin{enumerate*}\n",
       "\\item 1273809\n",
       "\\item 6\n",
       "\\end{enumerate*}\n"
      ],
      "text/markdown": [
       "1. 1273809\n",
       "2. 6\n",
       "\n",
       "\n"
      ],
      "text/plain": [
       "[1] 1273809       6"
      ]
     },
     "metadata": {},
     "output_type": "display_data"
    }
   ],
   "source": [
    "library(tidyverse)\n",
    "library(bigrquery)\n",
    "\n",
    "# This query represents dataset \"CAD_conditions\" for domain \"condition\" and was generated for All of Us Controlled Tier Dataset v7\n",
    "dataset_32581449_condition_sql <- paste(\"\n",
    "    SELECT\n",
    "        c_occurrence.person_id,\n",
    "        c_occurrence.condition_concept_id,\n",
    "        c_standard_concept.concept_name as standard_concept_name,\n",
    "        c_standard_concept.concept_code as standard_concept_code,\n",
    "        c_standard_concept.vocabulary_id as standard_vocabulary,\n",
    "        c_occurrence.condition_start_datetime \n",
    "    FROM\n",
    "        ( SELECT\n",
    "            * \n",
    "        FROM\n",
    "            `condition_occurrence` c_occurrence \n",
    "        WHERE\n",
    "            (\n",
    "                condition_concept_id IN (SELECT\n",
    "                    DISTINCT c.concept_id \n",
    "                FROM\n",
    "                    `cb_criteria` c \n",
    "                JOIN\n",
    "                    (SELECT\n",
    "                        CAST(cr.id as string) AS id       \n",
    "                    FROM\n",
    "                        `cb_criteria` cr       \n",
    "                    WHERE\n",
    "                        concept_id IN (312327, 314666, 319038, 37311078, 4108220, 4108679, 4108680, 4119462, 4119606, 4119953, 4121477, 4124687, 4158567, 4161462, 4178622, 4198141, 4322145, 4329847, 4353828, 438172, 46269996)       \n",
    "                        AND full_text LIKE '%_rank1]%'      ) a \n",
    "                        ON (c.path LIKE CONCAT('%.', a.id, '.%') \n",
    "                        OR c.path LIKE CONCAT('%.', a.id) \n",
    "                        OR c.path LIKE CONCAT(a.id, '.%') \n",
    "                        OR c.path = a.id) \n",
    "                WHERE\n",
    "                    is_standard = 1 \n",
    "                    AND is_selectable = 1)\n",
    "            )  \n",
    "            AND (\n",
    "                c_occurrence.PERSON_ID IN (SELECT\n",
    "                    distinct person_id  \n",
    "                FROM\n",
    "                    `cb_search_person` cb_search_person  \n",
    "                WHERE\n",
    "                    cb_search_person.person_id IN (SELECT\n",
    "                        person_id \n",
    "                    FROM\n",
    "                        `cb_search_person` p \n",
    "                    WHERE\n",
    "                        has_whole_genome_variant = 1 ) \n",
    "                    AND cb_search_person.person_id IN (SELECT\n",
    "                        person_id \n",
    "                    FROM\n",
    "                        `cb_search_person` p \n",
    "                    WHERE\n",
    "                        has_ehr_data = 1 ) )\n",
    "            )) c_occurrence \n",
    "    LEFT JOIN\n",
    "        `concept` c_standard_concept \n",
    "            ON c_occurrence.condition_concept_id = c_standard_concept.concept_id\", sep=\"\")\n",
    "\n",
    "# Formulate a Cloud Storage destination path for the data exported from BigQuery.\n",
    "# NOTE: By default data exported multiple times on the same day will overwrite older copies.\n",
    "#       But data exported on a different days will write to a new location so that historical\n",
    "#       copies can be kept as the dataset definition is changed.\n",
    "condition_32581449_path <- file.path(\n",
    "  Sys.getenv(\"WORKSPACE_BUCKET\"),\n",
    "  \"bq_exports\",\n",
    "  Sys.getenv(\"OWNER_EMAIL\"),\n",
    "  strftime(lubridate::now(), \"%Y%m%d\"),  # Comment out this line if you want the export to always overwrite.\n",
    "  \"condition_32581449\",\n",
    "  \"condition_32581449_*.csv\")\n",
    "message(str_glue('The data will be written to {condition_32581449_path}. Use this path when reading ',\n",
    "                 'the data into your notebooks in the future.'))\n",
    "\n",
    "# Perform the query and export the dataset to Cloud Storage as CSV files.\n",
    "# NOTE: You only need to run `bq_table_save` once. After that, you can\n",
    "#       just read data from the CSVs in Cloud Storage.\n",
    "bq_table_save(\n",
    "  bq_dataset_query(Sys.getenv(\"WORKSPACE_CDR\"), dataset_32581449_condition_sql, billing = Sys.getenv(\"GOOGLE_PROJECT\")),\n",
    "  condition_32581449_path,\n",
    "  destination_format = \"CSV\")\n",
    "\n",
    "\n",
    "# Read the data directly from Cloud Storage into memory.\n",
    "# NOTE: Alternatively you can `gsutil -m cp {condition_32581449_path}` to copy these files\n",
    "#       to the Jupyter disk.\n",
    "read_bq_export_from_workspace_bucket <- function(export_path) {\n",
    "  col_types <- cols(standard_concept_name = col_character(), standard_concept_code = col_character(), standard_vocabulary = col_character())\n",
    "  bind_rows(\n",
    "    map(system2('gsutil', args = c('ls', export_path), stdout = TRUE, stderr = TRUE),\n",
    "        function(csv) {\n",
    "          message(str_glue('Loading {csv}.'))\n",
    "          chunk <- read_csv(pipe(str_glue('gsutil cat {csv}')), col_types = col_types, show_col_types = FALSE)\n",
    "          if (is.null(col_types)) {\n",
    "            col_types <- spec(chunk)\n",
    "          }\n",
    "          chunk\n",
    "        }))\n",
    "}\n",
    "condition_df <- read_bq_export_from_workspace_bucket(condition_32581449_path)\n",
    "\n",
    "dim(condition_df)\n",
    "\n",
    "names(condition_df)<-c(\"person_id\", \"concept_id\", \"standard_concept_name\", \"standard_concept_code\", \"standard_vocabulary\", \"datetime\")"
   ]
  },
  {
   "cell_type": "code",
   "execution_count": 5,
   "metadata": {},
   "outputs": [
    {
     "name": "stderr",
     "output_type": "stream",
     "text": [
      "The data will be written to gs://fc-secure-672eeb92-4859-4ed9-9f59-d4349f3534a0/bq_exports/micah_hysong@researchallofus.org/20250825/observation_00963032/observation_00963032_*.csv. Use this path when reading the data into your notebooks in the future.\n",
      "\n",
      "Loading gs://fc-secure-672eeb92-4859-4ed9-9f59-d4349f3534a0/bq_exports/micah_hysong@researchallofus.org/20250825/observation_00963032/observation_00963032_000000000000.csv.\n",
      "\n"
     ]
    },
    {
     "data": {
      "text/html": [
       "<style>\n",
       ".list-inline {list-style: none; margin:0; padding: 0}\n",
       ".list-inline>li {display: inline-block}\n",
       ".list-inline>li:not(:last-child)::after {content: \"\\00b7\"; padding: 0 .5ex}\n",
       "</style>\n",
       "<ol class=list-inline><li>27</li><li>6</li></ol>\n"
      ],
      "text/latex": [
       "\\begin{enumerate*}\n",
       "\\item 27\n",
       "\\item 6\n",
       "\\end{enumerate*}\n"
      ],
      "text/markdown": [
       "1. 27\n",
       "2. 6\n",
       "\n",
       "\n"
      ],
      "text/plain": [
       "[1] 27  6"
      ]
     },
     "metadata": {},
     "output_type": "display_data"
    }
   ],
   "source": [
    "library(tidyverse)\n",
    "library(bigrquery)\n",
    "\n",
    "# This query represents dataset \"CAD_observations\" for domain \"observation\" and was generated for All of Us Controlled Tier Dataset v7\n",
    "dataset_00963032_observation_sql <- paste(\"\n",
    "    SELECT\n",
    "        observation.person_id,\n",
    "        observation.observation_concept_id,\n",
    "        o_standard_concept.concept_name as standard_concept_name,\n",
    "        o_standard_concept.concept_code as standard_concept_code,\n",
    "        o_standard_concept.vocabulary_id as standard_vocabulary,\n",
    "        observation.observation_datetime \n",
    "    FROM\n",
    "        ( SELECT\n",
    "            * \n",
    "        FROM\n",
    "            `observation` observation \n",
    "        WHERE\n",
    "            (\n",
    "                observation_concept_id IN (4163883, 4177223, 4179076, 4180760, 4181951, 43022009, 4324192, 4324758, 44782697, 44782699, 44782701, 44782708, 46269964)\n",
    "            )  \n",
    "            AND (\n",
    "                observation.PERSON_ID IN (SELECT\n",
    "                    distinct person_id  \n",
    "                FROM\n",
    "                    `cb_search_person` cb_search_person  \n",
    "                WHERE\n",
    "                    cb_search_person.person_id IN (SELECT\n",
    "                        person_id \n",
    "                    FROM\n",
    "                        `cb_search_person` p \n",
    "                    WHERE\n",
    "                        has_whole_genome_variant = 1 ) \n",
    "                    AND cb_search_person.person_id IN (SELECT\n",
    "                        person_id \n",
    "                    FROM\n",
    "                        `cb_search_person` p \n",
    "                    WHERE\n",
    "                        has_ehr_data = 1 ) )\n",
    "            )) observation \n",
    "    LEFT JOIN\n",
    "        `concept` o_standard_concept \n",
    "            ON observation.observation_concept_id = o_standard_concept.concept_id\", sep=\"\")\n",
    "\n",
    "# Formulate a Cloud Storage destination path for the data exported from BigQuery.\n",
    "# NOTE: By default data exported multiple times on the same day will overwrite older copies.\n",
    "#       But data exported on a different days will write to a new location so that historical\n",
    "#       copies can be kept as the dataset definition is changed.\n",
    "observation_00963032_path <- file.path(\n",
    "  Sys.getenv(\"WORKSPACE_BUCKET\"),\n",
    "  \"bq_exports\",\n",
    "  Sys.getenv(\"OWNER_EMAIL\"),\n",
    "  strftime(lubridate::now(), \"%Y%m%d\"),  # Comment out this line if you want the export to always overwrite.\n",
    "  \"observation_00963032\",\n",
    "  \"observation_00963032_*.csv\")\n",
    "message(str_glue('The data will be written to {observation_00963032_path}. Use this path when reading ',\n",
    "                 'the data into your notebooks in the future.'))\n",
    "\n",
    "# Perform the query and export the dataset to Cloud Storage as CSV files.\n",
    "# NOTE: You only need to run `bq_table_save` once. After that, you can\n",
    "#       just read data from the CSVs in Cloud Storage.\n",
    "bq_table_save(\n",
    "  bq_dataset_query(Sys.getenv(\"WORKSPACE_CDR\"), dataset_00963032_observation_sql, billing = Sys.getenv(\"GOOGLE_PROJECT\")),\n",
    "  observation_00963032_path,\n",
    "  destination_format = \"CSV\")\n",
    "\n",
    "\n",
    "# Read the data directly from Cloud Storage into memory.\n",
    "# NOTE: Alternatively you can `gsutil -m cp {observation_00963032_path}` to copy these files\n",
    "#       to the Jupyter disk.\n",
    "read_bq_export_from_workspace_bucket <- function(export_path) {\n",
    "  col_types <- cols(standard_concept_name = col_character(), standard_concept_code = col_character(), standard_vocabulary = col_character())\n",
    "  bind_rows(\n",
    "    map(system2('gsutil', args = c('ls', export_path), stdout = TRUE, stderr = TRUE),\n",
    "        function(csv) {\n",
    "          message(str_glue('Loading {csv}.'))\n",
    "          chunk <- read_csv(pipe(str_glue('gsutil cat {csv}')), col_types = col_types, show_col_types = FALSE)\n",
    "          if (is.null(col_types)) {\n",
    "            col_types <- spec(chunk)\n",
    "          }\n",
    "          chunk\n",
    "        }))\n",
    "}\n",
    "observation_df <- read_bq_export_from_workspace_bucket(observation_00963032_path)\n",
    "\n",
    "dim(observation_df)\n",
    "             \n",
    "names(observation_df)<-c(\"person_id\", \"concept_id\", \"standard_concept_name\", \"standard_concept_code\", \"standard_vocabulary\", \"datetime\")"
   ]
  },
  {
   "cell_type": "code",
   "execution_count": 6,
   "metadata": {},
   "outputs": [],
   "source": [
    "ehr_codes<-rbind(condition_df, observation_df)"
   ]
  },
  {
   "cell_type": "code",
   "execution_count": 7,
   "metadata": {},
   "outputs": [
    {
     "data": {
      "text/html": [
       "<style>\n",
       ".list-inline {list-style: none; margin:0; padding: 0}\n",
       ".list-inline>li {display: inline-block}\n",
       ".list-inline>li:not(:last-child)::after {content: \"\\00b7\"; padding: 0 .5ex}\n",
       "</style>\n",
       "<ol class=list-inline><li>'Lipid-rich atherosclerosis of coronary artery'</li><li>'Atherosclerosis of autologous coronary artery bypass graft'</li><li>'Acute myocardial infarction of anterior wall'</li><li>'Coronary thrombosis not resulting in myocardial infarction'</li><li>'Recurrent coronary arteriosclerosis after percutaneous transluminal coronary angioplasty'</li><li>'Acute myocardial infarction of anterolateral wall'</li><li>'Coronary occlusion'</li><li>'Coronary artery bypass graft occlusion'</li><li>'Arteriosclerosis of autologous vein coronary artery bypass graft'</li><li>'Post-infarction ventricular septal defect'</li><li>'Acute ST segment elevation myocardial infarction due to right coronary artery occlusion'</li><li>'Delayed postmyocardial infarction pericarditis'</li><li>'Coronary artery spasm'</li><li>'Triple vessel disease of the heart'</li><li>'Subsequent non-ST segment elevation myocardial infarction'</li><li>'Post-infarction mural thrombus'</li><li>'Old inferior myocardial infarction'</li><li>'Coronary artery stenosis'</li><li>'Coronary artery atheroma'</li><li>'Angina associated with type 2 diabetes mellitus'</li><li>'Acute myocardial infarction due to left coronary artery occlusion'</li><li>'Calcific coronary arteriosclerosis'</li><li>'Acute myocardial infarction of inferoposterior wall'</li><li>'Subsequent ST segment elevation myocardial infarction'</li><li>'Left main coronary artery disease'</li><li>'Coronary graft stenosis'</li><li>'Anomalous communication of coronary artery'</li><li>'Acute myocardial infarction of inferior wall'</li><li>'Non-Q wave myocardial infarction'</li><li>'Subsequent myocardial infarction of inferior wall'</li><li>'Subsequent myocardial infarction of anterior wall'</li><li>'Post-infarction pericarditis'</li><li>'Myocardial infarction'</li><li>'True posterior myocardial infarction'</li><li>'Acute ST segment elevation myocardial infarction involving left anterior descending coronary artery'</li><li>'Calcification of coronary artery'</li><li>'Acute ST segment elevation myocardial infarction due to left coronary artery occlusion'</li><li>'Acute anterior ST segment elevation myocardial infarction'</li><li>'Rupture of chordae tendinae due to and following acute myocardial infarction'</li><li>'Stented coronary artery'</li><li>'Thrombosis of atrium, auricular appendage, and ventricle due to and following acute myocardial infarction'</li><li>'Myocardial infarction due to demand ischemia'</li><li>'Multi vessel coronary artery disease'</li><li>'Mechanical complication of coronary bypass'</li><li>'Left coronary artery occlusion'</li><li>'Unstable angina co-occurrent and due to coronary arteriosclerosis'</li><li>'Acute ST segment elevation myocardial infarction of inferior wall'</li><li>'Congenital anomaly of coronary artery'</li><li>'Arteriosclerosis of autologous arterial coronary artery bypass graft'</li><li>'Old myocardial infarction'</li><li>'Arteriosclerosis of arterial coronary artery bypass graft'</li><li>'Atrial septal defect due to and following acute myocardial infarction'</li><li>'Double coronary vessel disease'</li><li>'Prinzmetal angina'</li><li>'Acute myocardial infarction of lateral wall'</li><li>'Rupture of papillary muscle as current complication following acute myocardial infarction'</li><li>'Acute myocardial infarction of septum'</li><li>'Single coronary vessel disease'</li><li>'Non-obstructive atherosclerosis of coronary artery'</li><li>'Dissection of coronary artery'</li><li>'Aneurysm of coronary vessels'</li><li>'Post percutaneous transluminal coronary angioplasty'</li><li>'Coronary artery finding'</li><li>'Coronary artery stent thrombosis'</li><li>'Post infarct angina'</li><li>'Coronary bypass graft finding'</li><li>'Coronary artery fistula to left atrium'</li><li>'Significant coronary bypass graft disease'</li><li>'Postmyocardial infarction syndrome'</li><li>'Chronic total occlusion of coronary artery'</li><li>'Arteriosclerosis of coronary artery bypass graft of transplanted heart'</li><li>'Pericarditis secondary to acute myocardial infarction'</li><li>'Rupture of cardiac wall without hemopericardium as current complication following acute myocardial infarction'</li><li>'Normal coronary arteries'</li><li>'Arteriosclerosis of autologous coronary artery bypass graft'</li><li>'Acute non-ST segment elevation myocardial infarction'</li><li>'Acute coronary artery occlusion not resulting in myocardial infarction'</li><li>'Acute myocardial infarction of apical-lateral wall'</li><li>'Coronary arteriosclerosis'</li><li>'Acute non-Q wave infarction'</li><li>'Acute subendocardial infarction'</li><li>'Arteriosclerosis of coronary artery bypass graft'</li><li>'Anomalous origin of coronary artery'</li><li>'Acute myocardial infarction'</li><li>'Anomalous origin of right coronary artery'</li><li>'Patient post percutaneous transluminal coronary angioplasty'</li><li>'Aortocoronary bypass graft present'</li><li>'Angina co-occurrent and due to coronary arteriosclerosis'</li><li>'Acute ST segment elevation myocardial infarction'</li><li>'Arteriosclerosis of nonautologous coronary artery bypass graft'</li><li>'Disorder of coronary artery'</li><li>'Atherosclerosis of coronary artery without angina pectoris'</li><li>'Coronary atherosclerosis'</li><li>'Coronary artery graft present'</li><li>'Acute myocardial infarction of inferolateral wall'</li><li>'Coronary arteriosclerosis following coronary artery bypass graft'</li><li>'Drug coated stent in branch of right coronary artery'</li><li>'Drug coated stent in anterior descending branch of left coronary artery'</li><li>'Stent in anterior descending branch of left coronary artery'</li><li>'Drug coated stent in circumflex branch of left coronary artery'</li></ol>\n"
      ],
      "text/latex": [
       "\\begin{enumerate*}\n",
       "\\item 'Lipid-rich atherosclerosis of coronary artery'\n",
       "\\item 'Atherosclerosis of autologous coronary artery bypass graft'\n",
       "\\item 'Acute myocardial infarction of anterior wall'\n",
       "\\item 'Coronary thrombosis not resulting in myocardial infarction'\n",
       "\\item 'Recurrent coronary arteriosclerosis after percutaneous transluminal coronary angioplasty'\n",
       "\\item 'Acute myocardial infarction of anterolateral wall'\n",
       "\\item 'Coronary occlusion'\n",
       "\\item 'Coronary artery bypass graft occlusion'\n",
       "\\item 'Arteriosclerosis of autologous vein coronary artery bypass graft'\n",
       "\\item 'Post-infarction ventricular septal defect'\n",
       "\\item 'Acute ST segment elevation myocardial infarction due to right coronary artery occlusion'\n",
       "\\item 'Delayed postmyocardial infarction pericarditis'\n",
       "\\item 'Coronary artery spasm'\n",
       "\\item 'Triple vessel disease of the heart'\n",
       "\\item 'Subsequent non-ST segment elevation myocardial infarction'\n",
       "\\item 'Post-infarction mural thrombus'\n",
       "\\item 'Old inferior myocardial infarction'\n",
       "\\item 'Coronary artery stenosis'\n",
       "\\item 'Coronary artery atheroma'\n",
       "\\item 'Angina associated with type 2 diabetes mellitus'\n",
       "\\item 'Acute myocardial infarction due to left coronary artery occlusion'\n",
       "\\item 'Calcific coronary arteriosclerosis'\n",
       "\\item 'Acute myocardial infarction of inferoposterior wall'\n",
       "\\item 'Subsequent ST segment elevation myocardial infarction'\n",
       "\\item 'Left main coronary artery disease'\n",
       "\\item 'Coronary graft stenosis'\n",
       "\\item 'Anomalous communication of coronary artery'\n",
       "\\item 'Acute myocardial infarction of inferior wall'\n",
       "\\item 'Non-Q wave myocardial infarction'\n",
       "\\item 'Subsequent myocardial infarction of inferior wall'\n",
       "\\item 'Subsequent myocardial infarction of anterior wall'\n",
       "\\item 'Post-infarction pericarditis'\n",
       "\\item 'Myocardial infarction'\n",
       "\\item 'True posterior myocardial infarction'\n",
       "\\item 'Acute ST segment elevation myocardial infarction involving left anterior descending coronary artery'\n",
       "\\item 'Calcification of coronary artery'\n",
       "\\item 'Acute ST segment elevation myocardial infarction due to left coronary artery occlusion'\n",
       "\\item 'Acute anterior ST segment elevation myocardial infarction'\n",
       "\\item 'Rupture of chordae tendinae due to and following acute myocardial infarction'\n",
       "\\item 'Stented coronary artery'\n",
       "\\item 'Thrombosis of atrium, auricular appendage, and ventricle due to and following acute myocardial infarction'\n",
       "\\item 'Myocardial infarction due to demand ischemia'\n",
       "\\item 'Multi vessel coronary artery disease'\n",
       "\\item 'Mechanical complication of coronary bypass'\n",
       "\\item 'Left coronary artery occlusion'\n",
       "\\item 'Unstable angina co-occurrent and due to coronary arteriosclerosis'\n",
       "\\item 'Acute ST segment elevation myocardial infarction of inferior wall'\n",
       "\\item 'Congenital anomaly of coronary artery'\n",
       "\\item 'Arteriosclerosis of autologous arterial coronary artery bypass graft'\n",
       "\\item 'Old myocardial infarction'\n",
       "\\item 'Arteriosclerosis of arterial coronary artery bypass graft'\n",
       "\\item 'Atrial septal defect due to and following acute myocardial infarction'\n",
       "\\item 'Double coronary vessel disease'\n",
       "\\item 'Prinzmetal angina'\n",
       "\\item 'Acute myocardial infarction of lateral wall'\n",
       "\\item 'Rupture of papillary muscle as current complication following acute myocardial infarction'\n",
       "\\item 'Acute myocardial infarction of septum'\n",
       "\\item 'Single coronary vessel disease'\n",
       "\\item 'Non-obstructive atherosclerosis of coronary artery'\n",
       "\\item 'Dissection of coronary artery'\n",
       "\\item 'Aneurysm of coronary vessels'\n",
       "\\item 'Post percutaneous transluminal coronary angioplasty'\n",
       "\\item 'Coronary artery finding'\n",
       "\\item 'Coronary artery stent thrombosis'\n",
       "\\item 'Post infarct angina'\n",
       "\\item 'Coronary bypass graft finding'\n",
       "\\item 'Coronary artery fistula to left atrium'\n",
       "\\item 'Significant coronary bypass graft disease'\n",
       "\\item 'Postmyocardial infarction syndrome'\n",
       "\\item 'Chronic total occlusion of coronary artery'\n",
       "\\item 'Arteriosclerosis of coronary artery bypass graft of transplanted heart'\n",
       "\\item 'Pericarditis secondary to acute myocardial infarction'\n",
       "\\item 'Rupture of cardiac wall without hemopericardium as current complication following acute myocardial infarction'\n",
       "\\item 'Normal coronary arteries'\n",
       "\\item 'Arteriosclerosis of autologous coronary artery bypass graft'\n",
       "\\item 'Acute non-ST segment elevation myocardial infarction'\n",
       "\\item 'Acute coronary artery occlusion not resulting in myocardial infarction'\n",
       "\\item 'Acute myocardial infarction of apical-lateral wall'\n",
       "\\item 'Coronary arteriosclerosis'\n",
       "\\item 'Acute non-Q wave infarction'\n",
       "\\item 'Acute subendocardial infarction'\n",
       "\\item 'Arteriosclerosis of coronary artery bypass graft'\n",
       "\\item 'Anomalous origin of coronary artery'\n",
       "\\item 'Acute myocardial infarction'\n",
       "\\item 'Anomalous origin of right coronary artery'\n",
       "\\item 'Patient post percutaneous transluminal coronary angioplasty'\n",
       "\\item 'Aortocoronary bypass graft present'\n",
       "\\item 'Angina co-occurrent and due to coronary arteriosclerosis'\n",
       "\\item 'Acute ST segment elevation myocardial infarction'\n",
       "\\item 'Arteriosclerosis of nonautologous coronary artery bypass graft'\n",
       "\\item 'Disorder of coronary artery'\n",
       "\\item 'Atherosclerosis of coronary artery without angina pectoris'\n",
       "\\item 'Coronary atherosclerosis'\n",
       "\\item 'Coronary artery graft present'\n",
       "\\item 'Acute myocardial infarction of inferolateral wall'\n",
       "\\item 'Coronary arteriosclerosis following coronary artery bypass graft'\n",
       "\\item 'Drug coated stent in branch of right coronary artery'\n",
       "\\item 'Drug coated stent in anterior descending branch of left coronary artery'\n",
       "\\item 'Stent in anterior descending branch of left coronary artery'\n",
       "\\item 'Drug coated stent in circumflex branch of left coronary artery'\n",
       "\\end{enumerate*}\n"
      ],
      "text/markdown": [
       "1. 'Lipid-rich atherosclerosis of coronary artery'\n",
       "2. 'Atherosclerosis of autologous coronary artery bypass graft'\n",
       "3. 'Acute myocardial infarction of anterior wall'\n",
       "4. 'Coronary thrombosis not resulting in myocardial infarction'\n",
       "5. 'Recurrent coronary arteriosclerosis after percutaneous transluminal coronary angioplasty'\n",
       "6. 'Acute myocardial infarction of anterolateral wall'\n",
       "7. 'Coronary occlusion'\n",
       "8. 'Coronary artery bypass graft occlusion'\n",
       "9. 'Arteriosclerosis of autologous vein coronary artery bypass graft'\n",
       "10. 'Post-infarction ventricular septal defect'\n",
       "11. 'Acute ST segment elevation myocardial infarction due to right coronary artery occlusion'\n",
       "12. 'Delayed postmyocardial infarction pericarditis'\n",
       "13. 'Coronary artery spasm'\n",
       "14. 'Triple vessel disease of the heart'\n",
       "15. 'Subsequent non-ST segment elevation myocardial infarction'\n",
       "16. 'Post-infarction mural thrombus'\n",
       "17. 'Old inferior myocardial infarction'\n",
       "18. 'Coronary artery stenosis'\n",
       "19. 'Coronary artery atheroma'\n",
       "20. 'Angina associated with type 2 diabetes mellitus'\n",
       "21. 'Acute myocardial infarction due to left coronary artery occlusion'\n",
       "22. 'Calcific coronary arteriosclerosis'\n",
       "23. 'Acute myocardial infarction of inferoposterior wall'\n",
       "24. 'Subsequent ST segment elevation myocardial infarction'\n",
       "25. 'Left main coronary artery disease'\n",
       "26. 'Coronary graft stenosis'\n",
       "27. 'Anomalous communication of coronary artery'\n",
       "28. 'Acute myocardial infarction of inferior wall'\n",
       "29. 'Non-Q wave myocardial infarction'\n",
       "30. 'Subsequent myocardial infarction of inferior wall'\n",
       "31. 'Subsequent myocardial infarction of anterior wall'\n",
       "32. 'Post-infarction pericarditis'\n",
       "33. 'Myocardial infarction'\n",
       "34. 'True posterior myocardial infarction'\n",
       "35. 'Acute ST segment elevation myocardial infarction involving left anterior descending coronary artery'\n",
       "36. 'Calcification of coronary artery'\n",
       "37. 'Acute ST segment elevation myocardial infarction due to left coronary artery occlusion'\n",
       "38. 'Acute anterior ST segment elevation myocardial infarction'\n",
       "39. 'Rupture of chordae tendinae due to and following acute myocardial infarction'\n",
       "40. 'Stented coronary artery'\n",
       "41. 'Thrombosis of atrium, auricular appendage, and ventricle due to and following acute myocardial infarction'\n",
       "42. 'Myocardial infarction due to demand ischemia'\n",
       "43. 'Multi vessel coronary artery disease'\n",
       "44. 'Mechanical complication of coronary bypass'\n",
       "45. 'Left coronary artery occlusion'\n",
       "46. 'Unstable angina co-occurrent and due to coronary arteriosclerosis'\n",
       "47. 'Acute ST segment elevation myocardial infarction of inferior wall'\n",
       "48. 'Congenital anomaly of coronary artery'\n",
       "49. 'Arteriosclerosis of autologous arterial coronary artery bypass graft'\n",
       "50. 'Old myocardial infarction'\n",
       "51. 'Arteriosclerosis of arterial coronary artery bypass graft'\n",
       "52. 'Atrial septal defect due to and following acute myocardial infarction'\n",
       "53. 'Double coronary vessel disease'\n",
       "54. 'Prinzmetal angina'\n",
       "55. 'Acute myocardial infarction of lateral wall'\n",
       "56. 'Rupture of papillary muscle as current complication following acute myocardial infarction'\n",
       "57. 'Acute myocardial infarction of septum'\n",
       "58. 'Single coronary vessel disease'\n",
       "59. 'Non-obstructive atherosclerosis of coronary artery'\n",
       "60. 'Dissection of coronary artery'\n",
       "61. 'Aneurysm of coronary vessels'\n",
       "62. 'Post percutaneous transluminal coronary angioplasty'\n",
       "63. 'Coronary artery finding'\n",
       "64. 'Coronary artery stent thrombosis'\n",
       "65. 'Post infarct angina'\n",
       "66. 'Coronary bypass graft finding'\n",
       "67. 'Coronary artery fistula to left atrium'\n",
       "68. 'Significant coronary bypass graft disease'\n",
       "69. 'Postmyocardial infarction syndrome'\n",
       "70. 'Chronic total occlusion of coronary artery'\n",
       "71. 'Arteriosclerosis of coronary artery bypass graft of transplanted heart'\n",
       "72. 'Pericarditis secondary to acute myocardial infarction'\n",
       "73. 'Rupture of cardiac wall without hemopericardium as current complication following acute myocardial infarction'\n",
       "74. 'Normal coronary arteries'\n",
       "75. 'Arteriosclerosis of autologous coronary artery bypass graft'\n",
       "76. 'Acute non-ST segment elevation myocardial infarction'\n",
       "77. 'Acute coronary artery occlusion not resulting in myocardial infarction'\n",
       "78. 'Acute myocardial infarction of apical-lateral wall'\n",
       "79. 'Coronary arteriosclerosis'\n",
       "80. 'Acute non-Q wave infarction'\n",
       "81. 'Acute subendocardial infarction'\n",
       "82. 'Arteriosclerosis of coronary artery bypass graft'\n",
       "83. 'Anomalous origin of coronary artery'\n",
       "84. 'Acute myocardial infarction'\n",
       "85. 'Anomalous origin of right coronary artery'\n",
       "86. 'Patient post percutaneous transluminal coronary angioplasty'\n",
       "87. 'Aortocoronary bypass graft present'\n",
       "88. 'Angina co-occurrent and due to coronary arteriosclerosis'\n",
       "89. 'Acute ST segment elevation myocardial infarction'\n",
       "90. 'Arteriosclerosis of nonautologous coronary artery bypass graft'\n",
       "91. 'Disorder of coronary artery'\n",
       "92. 'Atherosclerosis of coronary artery without angina pectoris'\n",
       "93. 'Coronary atherosclerosis'\n",
       "94. 'Coronary artery graft present'\n",
       "95. 'Acute myocardial infarction of inferolateral wall'\n",
       "96. 'Coronary arteriosclerosis following coronary artery bypass graft'\n",
       "97. 'Drug coated stent in branch of right coronary artery'\n",
       "98. 'Drug coated stent in anterior descending branch of left coronary artery'\n",
       "99. 'Stent in anterior descending branch of left coronary artery'\n",
       "100. 'Drug coated stent in circumflex branch of left coronary artery'\n",
       "\n",
       "\n"
      ],
      "text/plain": [
       "  [1] \"Lipid-rich atherosclerosis of coronary artery\"                                                                \n",
       "  [2] \"Atherosclerosis of autologous coronary artery bypass graft\"                                                   \n",
       "  [3] \"Acute myocardial infarction of anterior wall\"                                                                 \n",
       "  [4] \"Coronary thrombosis not resulting in myocardial infarction\"                                                   \n",
       "  [5] \"Recurrent coronary arteriosclerosis after percutaneous transluminal coronary angioplasty\"                     \n",
       "  [6] \"Acute myocardial infarction of anterolateral wall\"                                                            \n",
       "  [7] \"Coronary occlusion\"                                                                                           \n",
       "  [8] \"Coronary artery bypass graft occlusion\"                                                                       \n",
       "  [9] \"Arteriosclerosis of autologous vein coronary artery bypass graft\"                                             \n",
       " [10] \"Post-infarction ventricular septal defect\"                                                                    \n",
       " [11] \"Acute ST segment elevation myocardial infarction due to right coronary artery occlusion\"                      \n",
       " [12] \"Delayed postmyocardial infarction pericarditis\"                                                               \n",
       " [13] \"Coronary artery spasm\"                                                                                        \n",
       " [14] \"Triple vessel disease of the heart\"                                                                           \n",
       " [15] \"Subsequent non-ST segment elevation myocardial infarction\"                                                    \n",
       " [16] \"Post-infarction mural thrombus\"                                                                               \n",
       " [17] \"Old inferior myocardial infarction\"                                                                           \n",
       " [18] \"Coronary artery stenosis\"                                                                                     \n",
       " [19] \"Coronary artery atheroma\"                                                                                     \n",
       " [20] \"Angina associated with type 2 diabetes mellitus\"                                                              \n",
       " [21] \"Acute myocardial infarction due to left coronary artery occlusion\"                                            \n",
       " [22] \"Calcific coronary arteriosclerosis\"                                                                           \n",
       " [23] \"Acute myocardial infarction of inferoposterior wall\"                                                          \n",
       " [24] \"Subsequent ST segment elevation myocardial infarction\"                                                        \n",
       " [25] \"Left main coronary artery disease\"                                                                            \n",
       " [26] \"Coronary graft stenosis\"                                                                                      \n",
       " [27] \"Anomalous communication of coronary artery\"                                                                   \n",
       " [28] \"Acute myocardial infarction of inferior wall\"                                                                 \n",
       " [29] \"Non-Q wave myocardial infarction\"                                                                             \n",
       " [30] \"Subsequent myocardial infarction of inferior wall\"                                                            \n",
       " [31] \"Subsequent myocardial infarction of anterior wall\"                                                            \n",
       " [32] \"Post-infarction pericarditis\"                                                                                 \n",
       " [33] \"Myocardial infarction\"                                                                                        \n",
       " [34] \"True posterior myocardial infarction\"                                                                         \n",
       " [35] \"Acute ST segment elevation myocardial infarction involving left anterior descending coronary artery\"          \n",
       " [36] \"Calcification of coronary artery\"                                                                             \n",
       " [37] \"Acute ST segment elevation myocardial infarction due to left coronary artery occlusion\"                       \n",
       " [38] \"Acute anterior ST segment elevation myocardial infarction\"                                                    \n",
       " [39] \"Rupture of chordae tendinae due to and following acute myocardial infarction\"                                 \n",
       " [40] \"Stented coronary artery\"                                                                                      \n",
       " [41] \"Thrombosis of atrium, auricular appendage, and ventricle due to and following acute myocardial infarction\"    \n",
       " [42] \"Myocardial infarction due to demand ischemia\"                                                                 \n",
       " [43] \"Multi vessel coronary artery disease\"                                                                         \n",
       " [44] \"Mechanical complication of coronary bypass\"                                                                   \n",
       " [45] \"Left coronary artery occlusion\"                                                                               \n",
       " [46] \"Unstable angina co-occurrent and due to coronary arteriosclerosis\"                                            \n",
       " [47] \"Acute ST segment elevation myocardial infarction of inferior wall\"                                            \n",
       " [48] \"Congenital anomaly of coronary artery\"                                                                        \n",
       " [49] \"Arteriosclerosis of autologous arterial coronary artery bypass graft\"                                         \n",
       " [50] \"Old myocardial infarction\"                                                                                    \n",
       " [51] \"Arteriosclerosis of arterial coronary artery bypass graft\"                                                    \n",
       " [52] \"Atrial septal defect due to and following acute myocardial infarction\"                                        \n",
       " [53] \"Double coronary vessel disease\"                                                                               \n",
       " [54] \"Prinzmetal angina\"                                                                                            \n",
       " [55] \"Acute myocardial infarction of lateral wall\"                                                                  \n",
       " [56] \"Rupture of papillary muscle as current complication following acute myocardial infarction\"                    \n",
       " [57] \"Acute myocardial infarction of septum\"                                                                        \n",
       " [58] \"Single coronary vessel disease\"                                                                               \n",
       " [59] \"Non-obstructive atherosclerosis of coronary artery\"                                                           \n",
       " [60] \"Dissection of coronary artery\"                                                                                \n",
       " [61] \"Aneurysm of coronary vessels\"                                                                                 \n",
       " [62] \"Post percutaneous transluminal coronary angioplasty\"                                                          \n",
       " [63] \"Coronary artery finding\"                                                                                      \n",
       " [64] \"Coronary artery stent thrombosis\"                                                                             \n",
       " [65] \"Post infarct angina\"                                                                                          \n",
       " [66] \"Coronary bypass graft finding\"                                                                                \n",
       " [67] \"Coronary artery fistula to left atrium\"                                                                       \n",
       " [68] \"Significant coronary bypass graft disease\"                                                                    \n",
       " [69] \"Postmyocardial infarction syndrome\"                                                                           \n",
       " [70] \"Chronic total occlusion of coronary artery\"                                                                   \n",
       " [71] \"Arteriosclerosis of coronary artery bypass graft of transplanted heart\"                                       \n",
       " [72] \"Pericarditis secondary to acute myocardial infarction\"                                                        \n",
       " [73] \"Rupture of cardiac wall without hemopericardium as current complication following acute myocardial infarction\"\n",
       " [74] \"Normal coronary arteries\"                                                                                     \n",
       " [75] \"Arteriosclerosis of autologous coronary artery bypass graft\"                                                  \n",
       " [76] \"Acute non-ST segment elevation myocardial infarction\"                                                         \n",
       " [77] \"Acute coronary artery occlusion not resulting in myocardial infarction\"                                       \n",
       " [78] \"Acute myocardial infarction of apical-lateral wall\"                                                           \n",
       " [79] \"Coronary arteriosclerosis\"                                                                                    \n",
       " [80] \"Acute non-Q wave infarction\"                                                                                  \n",
       " [81] \"Acute subendocardial infarction\"                                                                              \n",
       " [82] \"Arteriosclerosis of coronary artery bypass graft\"                                                             \n",
       " [83] \"Anomalous origin of coronary artery\"                                                                          \n",
       " [84] \"Acute myocardial infarction\"                                                                                  \n",
       " [85] \"Anomalous origin of right coronary artery\"                                                                    \n",
       " [86] \"Patient post percutaneous transluminal coronary angioplasty\"                                                  \n",
       " [87] \"Aortocoronary bypass graft present\"                                                                           \n",
       " [88] \"Angina co-occurrent and due to coronary arteriosclerosis\"                                                     \n",
       " [89] \"Acute ST segment elevation myocardial infarction\"                                                             \n",
       " [90] \"Arteriosclerosis of nonautologous coronary artery bypass graft\"                                               \n",
       " [91] \"Disorder of coronary artery\"                                                                                  \n",
       " [92] \"Atherosclerosis of coronary artery without angina pectoris\"                                                   \n",
       " [93] \"Coronary atherosclerosis\"                                                                                     \n",
       " [94] \"Coronary artery graft present\"                                                                                \n",
       " [95] \"Acute myocardial infarction of inferolateral wall\"                                                            \n",
       " [96] \"Coronary arteriosclerosis following coronary artery bypass graft\"                                             \n",
       " [97] \"Drug coated stent in branch of right coronary artery\"                                                         \n",
       " [98] \"Drug coated stent in anterior descending branch of left coronary artery\"                                      \n",
       " [99] \"Stent in anterior descending branch of left coronary artery\"                                                  \n",
       "[100] \"Drug coated stent in circumflex branch of left coronary artery\"                                               "
      ]
     },
     "metadata": {},
     "output_type": "display_data"
    }
   ],
   "source": [
    "unique(ehr_codes$standard_concept_name)"
   ]
  },
  {
   "cell_type": "code",
   "execution_count": 8,
   "metadata": {},
   "outputs": [],
   "source": [
    "ehr_codes2 <- ehr_codes |>\n",
    "    group_by(person_id) |>\n",
    "    summarize(distinct_count = n_distinct(datetime))"
   ]
  },
  {
   "cell_type": "code",
   "execution_count": 9,
   "metadata": {},
   "outputs": [
    {
     "data": {
      "text/html": [
       "32452"
      ],
      "text/latex": [
       "32452"
      ],
      "text/markdown": [
       "32452"
      ],
      "text/plain": [
       "[1] 32452"
      ]
     },
     "metadata": {},
     "output_type": "display_data"
    }
   ],
   "source": [
    "case_definition2 <- ehr_codes2[ehr_codes2$distinct_count>=2,]\n",
    "nrow(case_definition2)"
   ]
  },
  {
   "cell_type": "markdown",
   "metadata": {},
   "source": [
    "# Get cases from survey data"
   ]
  },
  {
   "cell_type": "code",
   "execution_count": 10,
   "metadata": {},
   "outputs": [
    {
     "name": "stderr",
     "output_type": "stream",
     "text": [
      "The data will be written to gs://fc-secure-672eeb92-4859-4ed9-9f59-d4349f3534a0/bq_exports/micah_hysong@researchallofus.org/20250825/survey_70858888/survey_70858888_*.csv. Use this path when reading the data into your notebooks in the future.\n",
      "\n",
      "Loading gs://fc-secure-672eeb92-4859-4ed9-9f59-d4349f3534a0/bq_exports/micah_hysong@researchallofus.org/20250825/survey_70858888/survey_70858888_000000000000.csv.\n",
      "\n"
     ]
    },
    {
     "data": {
      "text/html": [
       "<style>\n",
       ".list-inline {list-style: none; margin:0; padding: 0}\n",
       ".list-inline>li {display: inline-block}\n",
       ".list-inline>li:not(:last-child)::after {content: \"\\00b7\"; padding: 0 .5ex}\n",
       "</style>\n",
       "<ol class=list-inline><li>110228</li><li>9</li></ol>\n"
      ],
      "text/latex": [
       "\\begin{enumerate*}\n",
       "\\item 110228\n",
       "\\item 9\n",
       "\\end{enumerate*}\n"
      ],
      "text/markdown": [
       "1. 110228\n",
       "2. 9\n",
       "\n",
       "\n"
      ],
      "text/plain": [
       "[1] 110228      9"
      ]
     },
     "metadata": {},
     "output_type": "display_data"
    }
   ],
   "source": [
    "library(tidyverse)\n",
    "library(bigrquery)\n",
    "\n",
    "# This query represents dataset \"cad_survey\" for domain \"survey\" and was generated for All of Us Controlled Tier Dataset v8\n",
    "dataset_70858888_survey_sql <- paste(\"\n",
    "    SELECT\n",
    "        answer.person_id,\n",
    "        answer.survey_datetime,\n",
    "        answer.survey,\n",
    "        answer.question_concept_id,\n",
    "        answer.question,\n",
    "        answer.answer_concept_id,\n",
    "        answer.answer,\n",
    "        answer.survey_version_concept_id,\n",
    "        answer.survey_version_name  \n",
    "    FROM\n",
    "        `ds_survey` answer   \n",
    "    WHERE\n",
    "        (\n",
    "            question_concept_id IN (836876)\n",
    "        )  \n",
    "        AND (\n",
    "            answer.PERSON_ID IN (SELECT\n",
    "                distinct person_id  \n",
    "            FROM\n",
    "                `cb_search_person` cb_search_person  \n",
    "            WHERE\n",
    "                cb_search_person.person_id IN (SELECT\n",
    "                    person_id \n",
    "                FROM\n",
    "                    `cb_search_person` p \n",
    "                WHERE\n",
    "                    has_whole_genome_variant = 1 ) \n",
    "                AND cb_search_person.person_id IN (SELECT\n",
    "                    person_id \n",
    "                FROM\n",
    "                    `cb_search_person` p \n",
    "                WHERE\n",
    "                    has_ehr_data = 1 ) )\n",
    "        )\", sep=\"\")\n",
    "\n",
    "# Formulate a Cloud Storage destination path for the data exported from BigQuery.\n",
    "# NOTE: By default data exported multiple times on the same day will overwrite older copies.\n",
    "#       But data exported on a different days will write to a new location so that historical\n",
    "#       copies can be kept as the dataset definition is changed.\n",
    "survey_70858888_path <- file.path(\n",
    "  Sys.getenv(\"WORKSPACE_BUCKET\"),\n",
    "  \"bq_exports\",\n",
    "  Sys.getenv(\"OWNER_EMAIL\"),\n",
    "  strftime(lubridate::now(), \"%Y%m%d\"),  # Comment out this line if you want the export to always overwrite.\n",
    "  \"survey_70858888\",\n",
    "  \"survey_70858888_*.csv\")\n",
    "message(str_glue('The data will be written to {survey_70858888_path}. Use this path when reading ',\n",
    "                 'the data into your notebooks in the future.'))\n",
    "\n",
    "# Perform the query and export the dataset to Cloud Storage as CSV files.\n",
    "# NOTE: You only need to run `bq_table_save` once. After that, you can\n",
    "#       just read data from the CSVs in Cloud Storage.\n",
    "bq_table_save(\n",
    "  bq_dataset_query(Sys.getenv(\"WORKSPACE_CDR\"), dataset_70858888_survey_sql, billing = Sys.getenv(\"GOOGLE_PROJECT\")),\n",
    "  survey_70858888_path,\n",
    "  destination_format = \"CSV\")\n",
    "\n",
    "\n",
    "# Read the data directly from Cloud Storage into memory.\n",
    "# NOTE: Alternatively you can `gsutil -m cp {survey_70858888_path}` to copy these files\n",
    "#       to the Jupyter disk.\n",
    "read_bq_export_from_workspace_bucket <- function(export_path) {\n",
    "  col_types <- cols(survey = col_character(), question = col_character(), answer = col_character(), survey_version_name = col_character())\n",
    "  bind_rows(\n",
    "    map(system2('gsutil', args = c('ls', export_path), stdout = TRUE, stderr = TRUE),\n",
    "        function(csv) {\n",
    "          message(str_glue('Loading {csv}.'))\n",
    "          chunk <- read_csv(pipe(str_glue('gsutil cat {csv}')), col_types = col_types, show_col_types = FALSE)\n",
    "          if (is.null(col_types)) {\n",
    "            col_types <- spec(chunk)\n",
    "          }\n",
    "          chunk\n",
    "        }))\n",
    "}\n",
    "survey_df <- read_bq_export_from_workspace_bucket(survey_70858888_path)\n",
    "\n",
    "dim(survey_df)\n"
   ]
  },
  {
   "cell_type": "code",
   "execution_count": 11,
   "metadata": {},
   "outputs": [
    {
     "data": {
      "text/html": [
       "7114"
      ],
      "text/latex": [
       "7114"
      ],
      "text/markdown": [
       "7114"
      ],
      "text/plain": [
       "[1] 7114"
      ]
     },
     "metadata": {},
     "output_type": "display_data"
    }
   ],
   "source": [
    "cad<-survey_df[survey_df$answer == \"Including yourself, who in your family has had coronary artery/coronary heart disease? - Self\",]\n",
    "case_definition3<-unique(cad$person_id)\n",
    "length(case_definition3)\n"
   ]
  },
  {
   "cell_type": "markdown",
   "metadata": {},
   "source": [
    "# Get all Cases"
   ]
  },
  {
   "cell_type": "code",
   "execution_count": 12,
   "metadata": {},
   "outputs": [
    {
     "data": {
      "text/html": [
       "32501"
      ],
      "text/latex": [
       "32501"
      ],
      "text/markdown": [
       "32501"
      ],
      "text/plain": [
       "[1] 32501"
      ]
     },
     "metadata": {},
     "output_type": "display_data"
    },
    {
     "data": {
      "text/html": [
       "34435"
      ],
      "text/latex": [
       "34435"
      ],
      "text/markdown": [
       "34435"
      ],
      "text/plain": [
       "[1] 34435"
      ]
     },
     "metadata": {},
     "output_type": "display_data"
    }
   ],
   "source": [
    "cases01<-unique(c(case_definition1, case_definition2$person_id))\n",
    "length(cases01)\n",
    "cases01<-unique(c(cases01, case_definition3))\n",
    "length(cases01)"
   ]
  },
  {
   "cell_type": "markdown",
   "metadata": {},
   "source": [
    "# Get controls"
   ]
  },
  {
   "cell_type": "code",
   "execution_count": 13,
   "metadata": {},
   "outputs": [
    {
     "data": {
      "text/html": [],
      "text/latex": [],
      "text/markdown": [],
      "text/plain": [
       "character(0)"
      ]
     },
     "metadata": {},
     "output_type": "display_data"
    },
    {
     "name": "stderr",
     "output_type": "stream",
     "text": [
      "\u001b[1mRows: \u001b[22m\u001b[34m162193\u001b[39m \u001b[1mColumns: \u001b[22m\u001b[34m28\u001b[39m\n",
      "\u001b[36m──\u001b[39m \u001b[1mColumn specification\u001b[22m \u001b[36m────────────────────────────────────────────────────────\u001b[39m\n",
      "\u001b[1mDelimiter:\u001b[22m \",\"\n",
      "\u001b[31mchr\u001b[39m  (8): SexGender, income, education, where_born, military, healthcare, di...\n",
      "\u001b[32mdbl\u001b[39m  (9): person_id, race_unknown, age_today, LGBTQIA, ehr_length, relative_...\n",
      "\u001b[33mlgl\u001b[39m  (8): AIAN, Asian, Black, Mid, Multiple, PI, White, His\n",
      "\u001b[34mdate\u001b[39m (3): date_of_birth, min_date, max_date\n",
      "\n",
      "\u001b[36mℹ\u001b[39m Use `spec()` to retrieve the full column specification for this data.\n",
      "\u001b[36mℹ\u001b[39m Specify the column types or set `show_col_types = FALSE` to quiet this message.\n"
     ]
    }
   ],
   "source": [
    "# This snippet assumes that you run setup first\n",
    "\n",
    "# This code copies a file from your Google Bucket into a dataframe\n",
    "\n",
    "# replace 'test.csv' with the name of the file in your google bucket (don't delete the quotation marks)\n",
    "name_of_file_in_bucket <- 'Demographic_and_ancestry_covariates.csv'\n",
    "\n",
    "########################################################################\n",
    "##\n",
    "################# DON'T CHANGE FROM HERE ###############################\n",
    "##\n",
    "########################################################################\n",
    "\n",
    "# Get the bucket name\n",
    "my_bucket <- Sys.getenv('WORKSPACE_BUCKET')\n",
    "\n",
    "# Copy the file from current workspace to the bucket\n",
    "system(paste0(\"gsutil cp \", my_bucket, \"/data/\", name_of_file_in_bucket, \" .\"), intern=T)\n",
    "\n",
    "# Load the file into a dataframe\n",
    "demographics  <- read_csv(name_of_file_in_bucket)"
   ]
  },
  {
   "cell_type": "code",
   "execution_count": 14,
   "metadata": {},
   "outputs": [
    {
     "data": {
      "text/html": [
       "136140"
      ],
      "text/latex": [
       "136140"
      ],
      "text/markdown": [
       "136140"
      ],
      "text/plain": [
       "[1] 136140"
      ]
     },
     "metadata": {},
     "output_type": "display_data"
    }
   ],
   "source": [
    "controls <- demographics$person_id[!(demographics$person_id %in% ehr_codes$person_id)]\n",
    "controls <- controls[!(controls %in% case_definition1)]\n",
    "controls <- controls[!(controls %in% case_definition3)]\n",
    "length(controls)"
   ]
  },
  {
   "cell_type": "code",
   "execution_count": 15,
   "metadata": {},
   "outputs": [],
   "source": [
    "# Assign status01\n",
    "demographics$status01 <- ifelse(demographics$person_id %in% controls, 0, \n",
    "                                ifelse(demographics$person_id %in% cases01, 1, NA))"
   ]
  },
  {
   "cell_type": "code",
   "execution_count": 16,
   "metadata": {},
   "outputs": [
    {
     "data": {
      "text/html": [
       "170575"
      ],
      "text/latex": [
       "170575"
      ],
      "text/markdown": [
       "170575"
      ],
      "text/plain": [
       "[1] 170575"
      ]
     },
     "metadata": {},
     "output_type": "display_data"
    },
    {
     "data": {
      "text/html": [
       "170575"
      ],
      "text/latex": [
       "170575"
      ],
      "text/markdown": [
       "170575"
      ],
      "text/plain": [
       "[1] 170575"
      ]
     },
     "metadata": {},
     "output_type": "display_data"
    }
   ],
   "source": [
    "df_cases <- data.frame(\n",
    "  person_id = cases01,\n",
    "  status = 1\n",
    ")\n",
    "\n",
    "df_controls <- data.frame(\n",
    "  person_id = controls,\n",
    "  status = 0\n",
    ")\n",
    "\n",
    "final_df <- rbind(df_cases, df_controls)\n",
    "nrow(final_df)\n",
    "n_distinct(final_df$person_id)"
   ]
  },
  {
   "cell_type": "code",
   "execution_count": 17,
   "metadata": {},
   "outputs": [
    {
     "data": {
      "text/plain": [
       "\n",
       "     0      1 \n",
       "136140  34435 "
      ]
     },
     "metadata": {},
     "output_type": "display_data"
    }
   ],
   "source": [
    "table(final_df$status)"
   ]
  },
  {
   "cell_type": "code",
   "execution_count": 18,
   "metadata": {},
   "outputs": [
    {
     "data": {
      "text/html": [],
      "text/latex": [],
      "text/markdown": [],
      "text/plain": [
       "character(0)"
      ]
     },
     "metadata": {},
     "output_type": "display_data"
    },
    {
     "data": {
      "text/html": [
       "<style>\n",
       ".list-inline {list-style: none; margin:0; padding: 0}\n",
       ".list-inline>li {display: inline-block}\n",
       ".list-inline>li:not(:last-child)::after {content: \"\\00b7\"; padding: 0 .5ex}\n",
       "</style>\n",
       "<ol class=list-inline><li>'gs://fc-secure-672eeb92-4859-4ed9-9f59-d4349f3534a0/data/Demographic_and_ancestry_covariates.csv'</li><li>'gs://fc-secure-672eeb92-4859-4ed9-9f59-d4349f3534a0/data/all_demographics.csv'</li><li>'gs://fc-secure-672eeb92-4859-4ed9-9f59-d4349f3534a0/data/eMERGE_CAD_case_control_df.csv'</li></ol>\n"
      ],
      "text/latex": [
       "\\begin{enumerate*}\n",
       "\\item 'gs://fc-secure-672eeb92-4859-4ed9-9f59-d4349f3534a0/data/Demographic\\_and\\_ancestry\\_covariates.csv'\n",
       "\\item 'gs://fc-secure-672eeb92-4859-4ed9-9f59-d4349f3534a0/data/all\\_demographics.csv'\n",
       "\\item 'gs://fc-secure-672eeb92-4859-4ed9-9f59-d4349f3534a0/data/eMERGE\\_CAD\\_case\\_control\\_df.csv'\n",
       "\\end{enumerate*}\n"
      ],
      "text/markdown": [
       "1. 'gs://fc-secure-672eeb92-4859-4ed9-9f59-d4349f3534a0/data/Demographic_and_ancestry_covariates.csv'\n",
       "2. 'gs://fc-secure-672eeb92-4859-4ed9-9f59-d4349f3534a0/data/all_demographics.csv'\n",
       "3. 'gs://fc-secure-672eeb92-4859-4ed9-9f59-d4349f3534a0/data/eMERGE_CAD_case_control_df.csv'\n",
       "\n",
       "\n"
      ],
      "text/plain": [
       "[1] \"gs://fc-secure-672eeb92-4859-4ed9-9f59-d4349f3534a0/data/Demographic_and_ancestry_covariates.csv\"\n",
       "[2] \"gs://fc-secure-672eeb92-4859-4ed9-9f59-d4349f3534a0/data/all_demographics.csv\"                   \n",
       "[3] \"gs://fc-secure-672eeb92-4859-4ed9-9f59-d4349f3534a0/data/eMERGE_CAD_case_control_df.csv\"         "
      ]
     },
     "metadata": {},
     "output_type": "display_data"
    }
   ],
   "source": [
    "# This snippet assumes that you run setup first\n",
    "\n",
    "# This code saves your dataframe into a csv file in a \"data\" folder in Google Bucket\n",
    "\n",
    "# Replace df with THE NAME OF YOUR DATAFRAME\n",
    "my_dataframe <- final_df\n",
    "\n",
    "# Replace 'test.csv' with THE NAME of the file you're going to store in the bucket (don't delete the quotation marks)\n",
    "destination_filename <- 'eMERGE_CAD_case_control_df.csv'\n",
    "\n",
    "########################################################################\n",
    "##\n",
    "################# DON'T CHANGE FROM HERE ###############################\n",
    "##\n",
    "########################################################################\n",
    "\n",
    "# store the dataframe in current workspace\n",
    "write_excel_csv(my_dataframe, destination_filename)\n",
    "\n",
    "# Get the bucket name\n",
    "my_bucket <- Sys.getenv('WORKSPACE_BUCKET')\n",
    "\n",
    "# Copy the file from current workspace to the bucket\n",
    "system(paste0(\"gsutil cp ./\", destination_filename, \" \", my_bucket, \"/data/\"), intern=T)\n",
    "\n",
    "# Check if file is in the bucket\n",
    "system(paste0(\"gsutil ls \", my_bucket, \"/data/*.csv\"), intern=T)"
   ]
  },
  {
   "cell_type": "code",
   "execution_count": null,
   "metadata": {},
   "outputs": [],
   "source": []
  }
 ],
 "metadata": {
  "kernelspec": {
   "display_name": "R",
   "language": "R",
   "name": "ir"
  },
  "language_info": {
   "codemirror_mode": "r",
   "file_extension": ".r",
   "mimetype": "text/x-r-source",
   "name": "R",
   "pygments_lexer": "r",
   "version": "4.5.0"
  },
  "toc": {
   "base_numbering": 1,
   "nav_menu": {},
   "number_sections": true,
   "sideBar": true,
   "skip_h1_title": false,
   "title_cell": "Table of Contents",
   "title_sidebar": "Contents",
   "toc_cell": false,
   "toc_position": {},
   "toc_section_display": true,
   "toc_window_display": false
  }
 },
 "nbformat": 4,
 "nbformat_minor": 2
}
